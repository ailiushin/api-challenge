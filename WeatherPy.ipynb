{
 "cells": [
  {
   "cell_type": "markdown",
   "metadata": {},
   "source": [
    "# WeatherPy\n",
    "----\n",
    "\n",
    "#### Analysis\n",
    "Observed Trends\n",
    "1.  Based on the below data analysis, it appears that northern part of the globe has significantly higher cloudiness, humidity percentages, and wind speeds. \n",
    "2. There is a very high correlation between max temperature and latitude location for cities in both northern and southern hemisphere. The closer the city to the equator the higher the max temperature.\n",
    "3.  It was interesting to note that wind speeds across cities in the northern hemisphere had almost no correlation to the cities location. Hence, it shows that winds could achieve max speeds at any given city in the northern hemisphere. "
   ]
  },
  {
   "cell_type": "code",
   "execution_count": null,
   "metadata": {
    "scrolled": true
   },
   "outputs": [],
   "source": [
    "# Dependencies and Setup\n",
    "import matplotlib.pyplot as plt\n",
    "import pandas as pd\n",
    "import numpy as np\n",
    "import requests\n",
    "import time\n",
    "from scipy.stats import linregress\n",
    "import json\n",
    "from datetime import datetime\n",
    "\n",
    "# Import API key\n",
    "from api_keys import weather_api_key\n",
    "\n",
    "# Incorporated citipy to determine city based on latitude and longitude\n",
    "from citipy import citipy\n",
    "\n",
    "# Range of latitudes and longitudes\n",
    "lat_range = (-90, 90)\n",
    "lng_range = (-180, 180)"
   ]
  },
  {
   "cell_type": "markdown",
   "metadata": {},
   "source": [
    "## Generate Cities List"
   ]
  },
  {
   "cell_type": "code",
   "execution_count": null,
   "metadata": {},
   "outputs": [],
   "source": [
    "# List for holding lat_lngs and cities\n",
    "lat_lngs = []\n",
    "cities = []\n",
    "\n",
    "# Create a set of random lat and lng combinations\n",
    "lats = np.random.uniform(lat_range[0], lat_range[1], size=1500)\n",
    "lngs = np.random.uniform(lng_range[0], lng_range[1], size=1500)\n",
    "lat_lngs = zip(lats, lngs)\n",
    "\n",
    "# Identify nearest city for each lat, lng combination\n",
    "for lat_lng in lat_lngs:\n",
    "    city = citipy.nearest_city(lat_lng[0], lat_lng[1]).city_name #ask Erin why this is not \"lat_lngs variable why is it lat_lng\"\n",
    "    \n",
    "    # If the city is unique, then add it to a our cities list\n",
    "    if city not in cities:\n",
    "        cities.append(city)\n",
    "\n",
    "# Print the city count to confirm sufficient count\n",
    "len(cities)"
   ]
  },
  {
   "cell_type": "markdown",
   "metadata": {},
   "source": [
    "### Perform API Calls\n",
    "* Perform a weather check on each city using a series of successive API calls.\n",
    "* Include a print log of each city as it'sbeing processed (with the city number and city name).\n"
   ]
  },
  {
   "cell_type": "code",
   "execution_count": null,
   "metadata": {},
   "outputs": [],
   "source": [
    "# config information\n",
    "url = \"http://api.openweathermap.org/data/2.5/weather?\"\n",
    "units = \"imperial\"\n",
    "\n",
    "# build query ULR\n",
    "query_url = f\"{url}appid={weather_api_key}&units={units}&q=\"\n",
    "\n",
    "#printing beginning of the output message\n",
    "print(f\"Beginning Data Retrieval\")\n",
    "print(f\"-----------------------------\")\n",
    "\n",
    "# setting up a variable for processing record\n",
    "process_record = 0\n",
    "\n",
    "# setting up lists to hold city data from each API call\n",
    "city_name = []\n",
    "city_country = []\n",
    "city_date = []\n",
    "city_lat = []\n",
    "city_lng = []\n",
    "city_humid = []\n",
    "city_cloud = []\n",
    "city_wind = []\n",
    "city_temp = []\n",
    "\n",
    "# response = json.dumps((requests.get(query_url + city).json()),indent=4)\n",
    "# print(response)\n",
    "\n",
    "# loop thhrough each api call and store each city data\n",
    "for city in cities:\n",
    "    \n",
    "    # including exception logic for missing data in each loop\n",
    "    try:\n",
    "        response = requests.get(query_url + city).json()\n",
    "        city_name.append(response[\"name\"])\n",
    "        city_country.append(response[\"sys\"][\"country\"])\n",
    "        city_date.append(response[\"dt\"])\n",
    "        city_lat.append(response[\"coord\"][\"lat\"])\n",
    "        city_lng.append(response[\"coord\"][\"lon\"])\n",
    "        city_humid.append(response[\"main\"][\"humidity\"])\n",
    "        city_cloud.append(response[\"clouds\"][\"all\"])\n",
    "        city_wind.append(response[\"wind\"][\"speed\"])\n",
    "        city_temp.append(response[\"main\"][\"temp_max\"])\n",
    "        process_record += 1\n",
    "        print_city_name = response[\"name\"]\n",
    "        print(f\"Processing Record {process_record} | {print_city_name}\")\n",
    "        \n",
    "    except:\n",
    "        print(\"City not found. Skipping...\")\n",
    "    \n",
    "    continue\n",
    "        \n",
    "    \n",
    "#printing end of the output message   \n",
    "print(f\"-----------------------------\")\n",
    "print(f\"Data Retrieval Complete\")\n",
    "print(f\"-----------------------------\")\n"
   ]
  },
  {
   "cell_type": "markdown",
   "metadata": {},
   "source": [
    "### Convert Raw Data to DataFrame\n",
    "* Export the city data into a .csv.\n",
    "* Display the DataFrame"
   ]
  },
  {
   "cell_type": "code",
   "execution_count": null,
   "metadata": {},
   "outputs": [],
   "source": [
    "#creating data frame with data columns \n",
    "weather_data = pd.DataFrame({\n",
    "    \"City\": city_name,\n",
    "    \"Lat\": city_lat,\n",
    "    \"Lng\": city_lng,\n",
    "    \"Max Temp\": city_temp,\n",
    "    \"Humidity\": city_humid,\n",
    "    \"Cloudiness\": city_cloud,\n",
    "    \"Wind Speed\": city_wind,\n",
    "    \"Country\": city_country,\n",
    "    \"Date\": city_date\n",
    "})\n",
    "\n",
    "weather_data.head()"
   ]
  },
  {
   "cell_type": "code",
   "execution_count": null,
   "metadata": {},
   "outputs": [],
   "source": [
    "# producing descriptive statistics\n",
    "weather_data.describe()"
   ]
  },
  {
   "cell_type": "markdown",
   "metadata": {},
   "source": [
    "## Inspect the data and remove the cities where the humidity > 100%.\n",
    "----\n",
    "Skip this step if there are no cities that have humidity > 100%. "
   ]
  },
  {
   "cell_type": "code",
   "execution_count": null,
   "metadata": {},
   "outputs": [],
   "source": [
    "# checking the data for cities with humidity level greater than 100%\n",
    "\n",
    "if len(weather_data)==len(weather_data.loc[weather_data['Humidity'] <= 100]):\n",
    "    sorted_weather_data = weather_data\n",
    "    print(\"Skipping this step because no cities with himidity level of greater than 100% were identified\")\n",
    "else:\n",
    "    sorted_weather_data = weather_data.loc[weather_data['Humidity'] <= 100]\n",
    "    print(\"Cities with humidity levels of greater than 100% removed from the dataset\")"
   ]
  },
  {
   "cell_type": "code",
   "execution_count": null,
   "metadata": {},
   "outputs": [],
   "source": [
    "# producing descriptive statistics on filterd data\n",
    "sorted_weather_data.describe()"
   ]
  },
  {
   "cell_type": "code",
   "execution_count": null,
   "metadata": {},
   "outputs": [],
   "source": [
    "#  Get the indices of cities that have humidity over 100%.\n",
    "humidity_over_100 = weather_data[weather_data['Humidity'] > 100].index\n",
    "humidity_over_100"
   ]
  },
  {
   "cell_type": "code",
   "execution_count": null,
   "metadata": {},
   "outputs": [],
   "source": [
    "# Make a new DataFrame equal to the city data to drop all humidity outliers by index.\n",
    "# Passing \"inplace=False\" will make a copy of the city_data DataFrame, which we call \"clean_city_data\". \n",
    "clean_city_data = weather_data.drop(humidity_over_100,inplace=False)\n",
    "\n",
    "#saving to csv file\n",
    "clean_city_data.to_csv(\"output_data/WeatherPy.csv\",index=False)\n",
    "\n",
    "clean_city_data.head()"
   ]
  },
  {
   "cell_type": "markdown",
   "metadata": {},
   "source": [
    "## Plotting the Data"
   ]
  },
  {
   "cell_type": "markdown",
   "metadata": {},
   "source": [
    "## Latitude vs. Temperature Plot"
   ]
  },
  {
   "cell_type": "code",
   "execution_count": null,
   "metadata": {},
   "outputs": [],
   "source": [
    "# creating a scatter plot  for latitude vs max temperature\n",
    "plt.scatter(clean_city_data[\"Lat\"], clean_city_data[\"Max Temp\"], marker=\"o\",facecolor = \"steelblue\",edgecolor = \"black\")\n",
    "\n",
    "# producing today's date for the graph title\n",
    "date_today = datetime.now().strftime(\"%m/%d/%y\")\n",
    "\n",
    "# incorporate the other graph properties\n",
    "plt.title(f\"City Latitude vs. Max Temperature ({date_today})\")\n",
    "plt.ylabel(\"Max Temperature (F)\")\n",
    "plt.xlabel(\"Latitude\")\n",
    "plt.grid(True)\n",
    "\n",
    "# saving plot picture\n",
    "plt.savefig(\"output_data/City Latitude vs Max Temperature.png\")\n",
    "\n",
    "# the plot is analyzing the range of temperatures across latitudes."
   ]
  },
  {
   "cell_type": "markdown",
   "metadata": {},
   "source": [
    "## Latitude vs. Humidity Plot"
   ]
  },
  {
   "cell_type": "code",
   "execution_count": null,
   "metadata": {},
   "outputs": [],
   "source": [
    "# creating a scatter plot  for latitude vs humidity\n",
    "plt.scatter(clean_city_data[\"Lat\"], clean_city_data[\"Humidity\"], marker=\"o\", facecolor = \"steelblue\",edgecolor = \"black\")\n",
    "\n",
    "# # incorporate the other graph properties\n",
    "plt.title(f\"City Latitude vs. Humidity ({date_today})\")\n",
    "plt.ylabel(\"Humidity (%)\")\n",
    "plt.xlabel(\"Latitude\")\n",
    "plt.grid(True)\n",
    "\n",
    "# saving plot picture\n",
    "plt.savefig(\"output_data/City Latitude vs. Humidity.png\")\n",
    "\n",
    "# the plot is analyzing the range of humidity % across latitudes."
   ]
  },
  {
   "cell_type": "markdown",
   "metadata": {},
   "source": [
    "## Latitude vs. Cloudiness Plot"
   ]
  },
  {
   "cell_type": "code",
   "execution_count": null,
   "metadata": {},
   "outputs": [],
   "source": [
    "# creating a scatter plot  for latitude vs Cloudiness\n",
    "plt.scatter(clean_city_data[\"Lat\"], clean_city_data[\"Cloudiness\"], marker=\"o\", facecolor = \"steelblue\",edgecolor = \"black\")\n",
    "\n",
    "# # incorporate the other graph properties\n",
    "plt.title(f\"City Latitude vs. Cloudiness ({date_today})\")\n",
    "plt.ylabel(\"Cloudiness (%)\")\n",
    "plt.xlabel(\"Latitude\")\n",
    "plt.grid(True)\n",
    "\n",
    "# saving plot picture\n",
    "plt.savefig(\"output_data/City Latitude vs. Cloudiness.png\")\n",
    "\n",
    "# the plot is analyzing the range of cloudiness % across latitudes."
   ]
  },
  {
   "cell_type": "markdown",
   "metadata": {},
   "source": [
    "## Latitude vs. Wind Speed Plot"
   ]
  },
  {
   "cell_type": "code",
   "execution_count": null,
   "metadata": {},
   "outputs": [],
   "source": [
    "# creating a scatter plot  for latitude vs Wind Speed\n",
    "plt.scatter(clean_city_data[\"Lat\"], clean_city_data[\"Wind Speed\"], marker=\"o\", facecolor = \"steelblue\",edgecolor = \"black\")\n",
    "\n",
    "# # incorporate the other graph properties\n",
    "plt.title(f\"City Latitude vs. Wind Speed ({date_today})\")\n",
    "plt.ylabel(\"Wind Speed (mph)\")\n",
    "plt.xlabel(\"Latitude\")\n",
    "plt.grid(True)\n",
    "\n",
    "# saving plot picture\n",
    "plt.savefig(\"output_data/City Latitude vs. Wind Speed.png\")\n",
    "\n",
    "# the plot is analyzing the range of wind speeds % across latitudes."
   ]
  },
  {
   "cell_type": "markdown",
   "metadata": {},
   "source": [
    "## Linear Regression"
   ]
  },
  {
   "cell_type": "code",
   "execution_count": null,
   "metadata": {},
   "outputs": [],
   "source": [
    "# sort the dataframe for northern and southern hemisphere and put into separate dataframes\n",
    "north = clean_city_data.loc[clean_city_data[\"Lat\"] >= 0]\n",
    "south = clean_city_data.loc[clean_city_data[\"Lat\"] < 0]\n",
    "\n",
    "# defining a function for the rest of regression graphs\n",
    "def linear_regression(x,y):\n",
    "    (slope, intercept, rvalue, pvalue, stderr) = linregress(x, y)\n",
    "    regress_values = x * slope + intercept\n",
    "    line_eq = \"y = \" + str(round(slope,2)) + \"x + \" + str(round(intercept,2))\n",
    "    plt.scatter(x,y,facecolor = \"steelblue\",edgecolor = \"black\")\n",
    "    plt.plot(x,regress_values,\"r-\",)\n",
    "    plt.annotate(line_eq,(0,50),fontsize=15,color=\"red\")\n",
    "    print(f\"The r-value is: {rvalue**2}\")"
   ]
  },
  {
   "cell_type": "markdown",
   "metadata": {},
   "source": [
    "####  Northern Hemisphere - Max Temp vs. Latitude Linear Regression"
   ]
  },
  {
   "cell_type": "code",
   "execution_count": null,
   "metadata": {},
   "outputs": [],
   "source": [
    "# using the function above, determine the x,y values for northern hemisphere\n",
    "graph1 = linear_regression(north['Lat'],north['Max Temp'])\n",
    "plt.xlabel('Latitude')\n",
    "plt.ylabel('Max temp')\n",
    "plt.show()"
   ]
  },
  {
   "cell_type": "markdown",
   "metadata": {},
   "source": [
    "####  Southern Hemisphere - Max Temp vs. Latitude Linear Regression"
   ]
  },
  {
   "cell_type": "code",
   "execution_count": null,
   "metadata": {},
   "outputs": [],
   "source": [
    "# using the function above, determine the x,y values for southern hemisphere\n",
    "graph2 = linear_regression(south['Lat'],south['Max Temp'])\n",
    "plt.xlabel('Latitude')\n",
    "plt.ylabel('Max temp')\n",
    "plt.show()"
   ]
  },
  {
   "cell_type": "markdown",
   "metadata": {},
   "source": [
    "####  Northern Hemisphere - Humidity (%) vs. Latitude Linear Regression"
   ]
  },
  {
   "cell_type": "code",
   "execution_count": null,
   "metadata": {},
   "outputs": [],
   "source": [
    "# using the function above, determine the x,y values for Northern Hemisphere - Humidity (%) vs. Latitude Linear Regression\n",
    "graph2 = linear_regression(north['Lat'],north['Humidity'])\n",
    "plt.xlabel('Latitude')\n",
    "plt.ylabel('Humidity')\n",
    "plt.show()"
   ]
  },
  {
   "cell_type": "markdown",
   "metadata": {},
   "source": [
    "####  Southern Hemisphere - Humidity (%) vs. Latitude Linear Regression"
   ]
  },
  {
   "cell_type": "code",
   "execution_count": null,
   "metadata": {},
   "outputs": [],
   "source": [
    "# using the function above, determine the x,y values for Southern Hemisphere - Humidity (%) vs. Latitude Linear Regression\n",
    "graph2 = linear_regression(south['Lat'],south['Humidity'])\n",
    "plt.xlabel('Latitude')\n",
    "plt.ylabel('Humidity')\n",
    "plt.show()"
   ]
  },
  {
   "cell_type": "code",
   "execution_count": null,
   "metadata": {},
   "outputs": [],
   "source": []
  },
  {
   "cell_type": "markdown",
   "metadata": {},
   "source": [
    "####  Northern Hemisphere - Cloudiness (%) vs. Latitude Linear Regression"
   ]
  },
  {
   "cell_type": "code",
   "execution_count": null,
   "metadata": {},
   "outputs": [],
   "source": [
    "# using the function above, determine the x,y values for Northern Hemisphere - Cloudiness (%) vs. Latitude Linear Reg\n",
    "graph2 = linear_regression(north['Lat'],north['Cloudiness'])\n",
    "plt.xlabel('Latitude')\n",
    "plt.ylabel('Cloudiness')\n",
    "plt.show()"
   ]
  },
  {
   "cell_type": "code",
   "execution_count": null,
   "metadata": {},
   "outputs": [],
   "source": []
  },
  {
   "cell_type": "markdown",
   "metadata": {},
   "source": [
    "####  Southern Hemisphere - Cloudiness (%) vs. Latitude Linear Regression"
   ]
  },
  {
   "cell_type": "code",
   "execution_count": null,
   "metadata": {},
   "outputs": [],
   "source": [
    "# using the function above, determine the x,y values for Northern Hemisphere - Cloudiness (%) vs. Latitude Linear Reg\n",
    "graph2 = linear_regression(south['Lat'],south['Cloudiness'])\n",
    "plt.xlabel('Latitude')\n",
    "plt.ylabel('Cloudiness')\n",
    "plt.show()"
   ]
  },
  {
   "cell_type": "markdown",
   "metadata": {},
   "source": [
    "####  Northern Hemisphere - Wind Speed (mph) vs. Latitude Linear Regression"
   ]
  },
  {
   "cell_type": "code",
   "execution_count": null,
   "metadata": {},
   "outputs": [],
   "source": [
    "# using the function above, determine the x,y values for Northern Hemisphere - Wind Speed (mph) vs. Latitude Linear Reg\n",
    "graph2 = linear_regression(north['Lat'],north['Wind Speed'])\n",
    "plt.xlabel('Latitude')\n",
    "plt.ylabel('Wind Speed')\n",
    "plt.show()"
   ]
  },
  {
   "cell_type": "markdown",
   "metadata": {},
   "source": [
    "####  Southern Hemisphere - Wind Speed (mph) vs. Latitude Linear Regression"
   ]
  },
  {
   "cell_type": "code",
   "execution_count": null,
   "metadata": {},
   "outputs": [],
   "source": [
    "# using the function above, determine the x,y values for Northern Hemisphere - Wind Speed (mph) vs. Latitude Linear Reg\n",
    "graph2 = linear_regression(south['Lat'],south['Wind Speed'])\n",
    "plt.xlabel('Latitude')\n",
    "plt.ylabel('Wind Speed')\n",
    "plt.show()"
   ]
  }
 ],
 "metadata": {
  "anaconda-cloud": {},
  "kernel_info": {
   "name": "python3"
  },
  "kernelspec": {
   "display_name": "Python [conda env:PythonData38] *",
   "language": "python",
   "name": "conda-env-PythonData38-py"
  },
  "language_info": {
   "codemirror_mode": {
    "name": "ipython",
    "version": 3
   },
   "file_extension": ".py",
   "mimetype": "text/x-python",
   "name": "python",
   "nbconvert_exporter": "python",
   "pygments_lexer": "ipython3",
   "version": "3.8.12"
  },
  "latex_envs": {
   "LaTeX_envs_menu_present": true,
   "autoclose": false,
   "autocomplete": true,
   "bibliofile": "biblio.bib",
   "cite_by": "apalike",
   "current_citInitial": 1,
   "eqLabelWithNumbers": true,
   "eqNumInitial": 1,
   "hotkeys": {
    "equation": "Ctrl-E",
    "itemize": "Ctrl-I"
   },
   "labels_anchors": false,
   "latex_user_defs": false,
   "report_style_numbering": false,
   "user_envs_cfg": false
  },
  "nteract": {
   "version": "0.12.3"
  }
 },
 "nbformat": 4,
 "nbformat_minor": 2
}
